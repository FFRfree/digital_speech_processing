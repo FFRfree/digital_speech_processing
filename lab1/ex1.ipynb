{
 "cells": [
  {
   "cell_type": "markdown",
   "metadata": {},
   "source": [
    "Librosa是一个用于音频、音乐分析、处理的python工具包，一些常见的时频处理、特征提取、绘制声音图形等功能应有尽有，功能十分强大。"
   ]
  },
  {
   "cell_type": "markdown",
   "metadata": {},
   "source": [
    "# librosa安装\n",
    "通过pip安装\n",
    "```\n",
    "pip install librosa\n",
    "```\n",
    "通过annaconda安装\n",
    "```\n",
    "conda install -c conda-forge librosa\n",
    "```\n",
    "\n",
    "> 由于librosa底层为ffmpeg,需要单独安装ffmpeg,从官网链接下载后,将其中bin目录加入环境变量即可."
   ]
  },
  {
   "cell_type": "code",
   "execution_count": null,
   "metadata": {},
   "outputs": [],
   "source": []
  }
 ],
 "metadata": {
  "language_info": {
   "name": "python"
  },
  "orig_nbformat": 4
 },
 "nbformat": 4,
 "nbformat_minor": 2
}
